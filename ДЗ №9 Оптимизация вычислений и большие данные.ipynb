{
 "cells": [
  {
   "cell_type": "markdown",
   "metadata": {},
   "source": [
    "# Задание 1\n",
    "Напишите функцию date_range, которая возвращает список дней между датами start_date и end_date. Даты должны вводиться в формате YYYY-MM-DD."
   ]
  },
  {
   "cell_type": "code",
   "execution_count": 30,
   "metadata": {},
   "outputs": [
    {
     "name": "stdout",
     "output_type": "stream",
     "text": [
      "['2018-01-02', '2018-01-03', '2018-01-04', '2018-01-05']\n"
     ]
    }
   ],
   "source": [
    "from datetime import datetime, timedelta\n",
    "\n",
    "def date_range(start_date, end_date):\n",
    "    date_list = []\n",
    "    start_date_dt = datetime.strptime(start_date, '%Y-%m-%d')\n",
    "    end_date_dt = datetime.strptime(end_date, '%Y-%m-%d') \n",
    "    current = start_date_dt + timedelta(days=1)   \n",
    "    while current < end_date_dt:\n",
    "        date_list.append(current.strftime('%Y-%m-%d'))\n",
    "        current +=  timedelta(days=1)            \n",
    "    print(date_list)\n",
    "date_range('2018-01-01','2018-01-06')"
   ]
  },
  {
   "cell_type": "markdown",
   "metadata": {},
   "source": [
    "# Задание 2\n",
    "Дополните функцию из первого задания проверкой на корректность дат. В случае неверного формата или если start_date > end_date должен возвращаться пустой список."
   ]
  },
  {
   "cell_type": "code",
   "execution_count": 54,
   "metadata": {},
   "outputs": [
    {
     "name": "stdout",
     "output_type": "stream",
     "text": [
      "[]\n",
      "\n"
     ]
    }
   ],
   "source": [
    "from datetime import datetime, timedelta\n",
    "import traceback\n",
    "\n",
    "def date_range2(start_date, end_date):\n",
    "    date_list = [] \n",
    "    try:\n",
    "            start_date_dt = datetime.strptime(start_date, '%Y-%m-%d')\n",
    "            end_date_dt = datetime.strptime(end_date, '%Y-%m-%d') \n",
    "            current = start_date_dt + timedelta(days=1)\n",
    "    except ValueError:\n",
    "        print(date_list)\n",
    "    try:\n",
    "        start_date_dt = datetime.strptime(start_date, '%Y-%m-%d')\n",
    "        end_date_dt = datetime.strptime(end_date, '%Y-%m-%d') \n",
    "        current = start_date_dt + timedelta(days=1)\n",
    "        while current < end_date_dt:\n",
    "            date_list.append(current.strftime('%Y-%m-%d'))\n",
    "            current +=  timedelta(days=1) \n",
    "        print(date_list)\n",
    "    except:\n",
    "         print()\n",
    "        \n",
    "    \n",
    "    \n",
    "date_range2('2018-01-033333','2018-01-06')"
   ]
  },
  {
   "cell_type": "markdown",
   "metadata": {},
   "source": [
    "# Задание 3\n",
    "Дан поток дат в формате YYYY-MM-DD, в которых встречаются некорректные значения:\n",
    "stream = [‘2018-04-02’, ‘2018-02-29’, ‘2018-19-02’]\n",
    "Напишите функцию, которая проверяет эти даты на корректность. Т. е. для каждой даты возвращает True (дата корректна) или False (некорректная дата). "
   ]
  },
  {
   "cell_type": "code",
   "execution_count": null,
   "metadata": {},
   "outputs": [],
   "source": [
    "from datetime import datetime\n",
    "import traceback\n",
    "stream = ['2018-04-02', '2018-02-29', '2018-19-02']\n",
    "def check(stream):\n",
    "    for i in stream:\n",
    "        try:\n",
    "            stream_datetime = datetime.strptime(i,'%Y-%m-%d')\n",
    "            print (True)\n",
    "        except Exception:\n",
    "            print(False)\n",
    "\n",
    "check(stream)"
   ]
  },
  {
   "cell_type": "markdown",
   "metadata": {},
   "source": [
    "# Задание 4\n",
    "В последнем примере поиска по словарю мы использовали 3 столбца. Напишите функцию, которая формирует словарь для поиска по n столбцам."
   ]
  },
  {
   "cell_type": "code",
   "execution_count": null,
   "metadata": {},
   "outputs": [],
   "source": [
    "stats_dict ={}\n",
    "line_to_find = ('20','20552','3')\n",
    "try:\n",
    "    n = int(input('Введите n:'))\n",
    "    with open('stats.csv') as f:\n",
    "        for line in f:\n",
    "            line = line.strip().split(',')\n",
    "            stats_dict[tuple(line[:n])] = line[n]\n",
    "        cost = stats_dict[line_to_find]\n",
    "        print(cost)\n",
    "except:\n",
    "    print('Ошибка ввода')"
   ]
  },
  {
   "cell_type": "code",
   "execution_count": null,
   "metadata": {},
   "outputs": [],
   "source": [
    "stats_dict ={}\n",
    "line_to_find = ('14','26376')\n",
    "try:\n",
    "    n = int(input('Введите n:'))\n",
    "    with open('stats.csv') as f:\n",
    "        for line in f:\n",
    "            line = line.strip().split(',')\n",
    "            stats_dict[tuple(line[:n])] = line[n]\n",
    "        cost = stats_dict[line_to_find]\n",
    "        print(cost)\n",
    "except:\n",
    "    print('Ошибка ввода')"
   ]
  },
  {
   "cell_type": "code",
   "execution_count": null,
   "metadata": {},
   "outputs": [],
   "source": []
  }
 ],
 "metadata": {
  "kernelspec": {
   "display_name": "Python 3",
   "language": "python",
   "name": "python3"
  },
  "language_info": {
   "codemirror_mode": {
    "name": "ipython",
    "version": 3
   },
   "file_extension": ".py",
   "mimetype": "text/x-python",
   "name": "python",
   "nbconvert_exporter": "python",
   "pygments_lexer": "ipython3",
   "version": "3.7.3"
  }
 },
 "nbformat": 4,
 "nbformat_minor": 2
}
