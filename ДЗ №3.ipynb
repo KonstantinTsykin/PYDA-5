{
 "cells": [
  {
   "cell_type": "markdown",
   "metadata": {},
   "source": [
    "## Задание 1"
   ]
  },
  {
   "cell_type": "markdown",
   "metadata": {},
   "source": [
    "Дан список вида:"
   ]
  },
  {
   "cell_type": "code",
   "execution_count": 2,
   "metadata": {},
   "outputs": [
    {
     "data": {
      "text/plain": [
       "103"
      ]
     },
     "execution_count": 2,
     "metadata": {},
     "output_type": "execute_result"
    }
   ],
   "source": [
    "data = [\n",
    "    [13, 25, 23, 34],\n",
    "    [45, 32, 44, 47],\n",
    "    [12, 33, 23, 95],\n",
    "    [13, 53, 34, 35]\n",
    "]\n",
    "def sum_diag(matrix):\n",
    "    result = 0\n",
    "    for i, value in enumerate(matrix):\n",
    "        result += value[i]\n",
    "    return result\n",
    "sum_diag(data)"
   ]
  },
  {
   "cell_type": "markdown",
   "metadata": {},
   "source": [
    "Напишите функцию, которая возвращает сумму элементов на диагонали. Т. е. 13+32+23+35."
   ]
  },
  {
   "cell_type": "markdown",
   "metadata": {},
   "source": [
    "## Задание 2"
   ]
  },
  {
   "cell_type": "markdown",
   "metadata": {},
   "source": [
    "Дан список чисел, часть из которых имеют строковый тип или содержат буквы. Напишите функцию, которая возвращает сумму квадратов элементов, которые могут быть числами."
   ]
  },
  {
   "cell_type": "code",
   "execution_count": 3,
   "metadata": {},
   "outputs": [
    {
     "data": {
      "text/plain": [
       "430"
      ]
     },
     "execution_count": 3,
     "metadata": {},
     "output_type": "execute_result"
    }
   ],
   "source": [
    "data = [1, '5', 'abc', 20, '2']\n",
    "def square_sum(data):\n",
    "    result = 0\n",
    "    for element in data:\n",
    "        try:\n",
    "            result += int(element) ** 2\n",
    "        except:\n",
    "            pass\n",
    "    return(result)\n",
    "square_sum(data)"
   ]
  },
  {
   "cell_type": "markdown",
   "metadata": {},
   "source": [
    "## Задание 3"
   ]
  },
  {
   "cell_type": "markdown",
   "metadata": {},
   "source": [
    "Напишите функцию, возвращающую сумму первых n чисел Фибоначчи."
   ]
  },
  {
   "cell_type": "markdown",
   "metadata": {},
   "source": [
    "## Задание 4"
   ]
  },
  {
   "cell_type": "markdown",
   "metadata": {},
   "source": [
    "Дан набор данных об обучении студентов на курсе программирования, который содержит: \n",
    "1) имя\n",
    "2) фамилию \n",
    "3) пол \n",
    "4) наличие у студента опыта в программировании \n",
    "5) набор оценок за домашние работы \n",
    "6) оценку за итоговую работу.\n",
    "\n",
    "Напишите программу, которая будет принимать команду от пользователя и возвращать соотвествующий результат.\n",
    "Список команд: \n",
    "1 - вывести на экран среднюю оценку за все ДЗ по группе и вывести на экран среднюю оценку за экзамен по группе;\n",
    "2 - вывести среднюю оценку за ДЗ и за экзамен по группе в разрезе пола студентов\n",
    "3 - вывести среднюю оценку за ДЗ и за экзамен в разрезе наличия опыта в программировании у студентов.\n",
    "\n",
    "Прогрмма должна быть полностью декомпозирована на функции (кроме объявления функций и вызова итоговой функции в реализации ничего быть не должно)."
   ]
  },
  {
   "cell_type": "code",
   "execution_count": null,
   "metadata": {},
   "outputs": [
    {
     "name": "stdout",
     "output_type": "stream",
     "text": [
      "Введите команду:     1 - показать средние по группе     2 - показать средние по студентам без опыта     3 - показать средние по студентам с опытом     q - выйти из программы1\n",
      "Средняя оценка за ДЗ:  8.43\n",
      "Средняя оценка за экзамен:  9.17\n"
     ]
    }
   ],
   "source": [
    "students_list = [\n",
    "    {'name': 'Василий', 'surname': 'Теркин', 'sex': 'м', 'program_exp': True, 'grade': [8, 8, 9, 10, 9], 'exam': 9},\n",
    "    {'name': 'Мария', 'surname': 'Павлова', 'sex': 'ж', 'program_exp': True, 'grade': [7, 8, 9, 7, 9], 'exam': 8},\n",
    "    {'name': 'Ирина', 'surname': 'Андреева', 'sex': 'ж', 'program_exp': True, 'grade': [10, 9, 8, 10, 10], 'exam': 10},\n",
    "    {'name': 'Татьяна', 'surname': 'Сидорова', 'sex': 'ж', 'program_exp': True, 'grade': [7, 8, 8, 9, 8], 'exam': 8},\n",
    "    {'name': 'Иван', 'surname': 'Васильев', 'sex': 'ж', 'program_exp': True, 'grade': [9, 8, 9, 6, 9], 'exam': 10},\n",
    "    {'name': 'Роман', 'surname': 'Золотарев', 'sex': 'ж', 'program_exp': False, 'grade': [8, 9, 9, 6, 9], 'exam': 10}\n",
    "]\n",
    "def average_grades(students):\n",
    "    sum_average_hw = 0\n",
    "    sum_average_exam = 0\n",
    "    for student in students:\n",
    "        sum_average_hw += sum(student[\"grade\"])/len(student[\"grade\"])\n",
    "        sum_average_exam += student[\"exam\"]\n",
    "    print('Средняя оценка за ДЗ: ', round(sum_average_hw / len(students), 2))\n",
    "    print('Средняя оценка за экзамен: ', round(sum_average_exam / len(students), 2))\n",
    "\n",
    "\n",
    "def average_grades_by_exp(students, exp=True):\n",
    "    sum_average_hw = 0\n",
    "    sum_average_exam = 0  \n",
    "    student_counter = 0\n",
    "    for student in students:\n",
    "        if student[\"program_exp\"] == exp:\n",
    "            sum_average_hw += sum(student[\"grade\"])/len(student[\"grade\"])\n",
    "            sum_average_exam += student[\"exam\"]\n",
    "            student_counter += 1\n",
    "    if exp == True:\n",
    "        print('Средняя оценка за ДЗ у студентов с опытом равна: ', round(sum_average_hw / student_counter, 2))\n",
    "        print('Средняя оценка за экзамен у студентов с опытом равна: ', round(sum_average_exam / student_counter, 2))    \n",
    "    else:\n",
    "        print('Средняя оценка за ДЗ у студентов без опыта равна: ', round(sum_average_hw / student_counter, 2))\n",
    "        print('Средняя оценка за экзамен у студентов без опыта равна: ', round(sum_average_exam / student_counter, 2))\n",
    "\n",
    "def main():\n",
    "    while True:\n",
    "        user_input = input('Введите команду: \\\n",
    "    1 - показать средние по группе \\\n",
    "    2 - показать средние по студентам без опыта \\\n",
    "    3 - показать средние по студентам с опытом \\\n",
    "    q - выйти из программы')\n",
    "        if user_input == '1':\n",
    "            average_grades(students_list)\n",
    "        elif user_input == '2':\n",
    "            average_grades_by_exp(students_list, exp=False)\n",
    "        elif user_input == '3':\n",
    "            average_grades_by_exp(students_list)\n",
    "        elif user_input == 'q':\n",
    "            print('До свидания!')\n",
    "            break\n",
    "\n",
    "main()"
   ]
  },
  {
   "cell_type": "code",
   "execution_count": null,
   "metadata": {
    "scrolled": true
   },
   "outputs": [],
   "source": []
  },
  {
   "cell_type": "code",
   "execution_count": null,
   "metadata": {},
   "outputs": [],
   "source": []
  }
 ],
 "metadata": {
  "kernelspec": {
   "display_name": "Python 3",
   "language": "python",
   "name": "python3"
  },
  "language_info": {
   "codemirror_mode": {
    "name": "ipython",
    "version": 3
   },
   "file_extension": ".py",
   "mimetype": "text/x-python",
   "name": "python",
   "nbconvert_exporter": "python",
   "pygments_lexer": "ipython3",
   "version": "3.7.3"
  }
 },
 "nbformat": 4,
 "nbformat_minor": 2
}
