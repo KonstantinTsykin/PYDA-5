{
 "cells": [
  {
   "cell_type": "markdown",
   "metadata": {},
   "source": [
    "**Задание 1**. Даны 2 строки: *long_phrase* и *short_phrase*. \n",
    "Напишите код, который проверяет действительно ли длинная фраза *long_phrase* длиннее короткой *short_phrase*. И выводит *True* или *False* в зависимости от результата сравнения."
   ]
  },
  {
   "cell_type": "code",
   "execution_count": 2,
   "metadata": {},
   "outputs": [],
   "source": [
    "long_phrase = 'Насколько проще было бы писать программы, если бы не заказчики'\n",
    "short_phrase = '640Кб должно хватить для любых задач. Билл Гейтс (по легенде)'"
   ]
  },
  {
   "cell_type": "code",
   "execution_count": 3,
   "metadata": {},
   "outputs": [
    {
     "name": "stdout",
     "output_type": "stream",
     "text": [
      "True\n"
     ]
    }
   ],
   "source": [
    "long_phrase = 'Насколько проще было бы писать программы, если бы не заказчики'\n",
    "short_phrase = '640Кб должно хватить для любых задач. Билл Гейтс (по легенде)'\n",
    "print(long_phrase > short_phrase)"
   ]
  },
  {
   "cell_type": "markdown",
   "metadata": {},
   "source": [
    "**Задание 2**. Дано значение объема файла в байтах. Напишите перевод этого значения в мегабайты в формате: \"*Объем файла равен 213.68Mb*\""
   ]
  },
  {
   "cell_type": "code",
   "execution_count": 4,
   "metadata": {},
   "outputs": [
    {
     "name": "stdout",
     "output_type": "stream",
     "text": [
      "Объем файла равен: 121.83 Mb\n"
     ]
    }
   ],
   "source": [
    "file = 124756\n",
    "a = file / 1024\n",
    "print('Объем файла равен:' , round (a, 2 ),\"Mb\")\n"
   ]
  },
  {
   "cell_type": "markdown",
   "metadata": {},
   "source": [
    "**Задание 3**. Разработать приложение для определения знака зодиака по дате рождения. Пример:\n",
    "\n",
    "Введите месяц: март\n",
    "\n",
    "Введите число: 6\n",
    "\n",
    "Вывод:\n",
    "Рыбы"
   ]
  },
  {
   "cell_type": "code",
   "execution_count": 34,
   "metadata": {},
   "outputs": [
    {
     "name": "stdout",
     "output_type": "stream",
     "text": [
      "Введите месяц4\n",
      "Введите день17\n",
      "Овен\n",
      "Конец программы\n"
     ]
    }
   ],
   "source": [
    "month = int(input('Введите месяц'))\n",
    "day = int(input('Введите день'))\n",
    "if month <= 1 and day<= 19 :\n",
    "    print(\"Козерог\")\n",
    "elif month <=1 and day>=20:\n",
    "    print(\"Водолей\")\n",
    "elif month <=2 and day<=18:\n",
    "    print(\"Водолей\")\n",
    "elif month <=2 and day>=19:\n",
    "    print(\"Рыбы\")\n",
    "elif month <=3 and day<=20:\n",
    "    print(\"Рыбы\")\n",
    "elif month <=3 and day>=21:\n",
    "    print(\"Овен\")\n",
    "elif month <=4 and day<=20:\n",
    "    print(\"Овен\")\n",
    "elif month <=4 and day>=21:\n",
    "    print(\"Телец\")\n",
    "elif month <=5 and day<=20:\n",
    "    print(\"Телец\")\n",
    "elif month <=5 and day>=21:\n",
    "    print(\"Близнецы\")\n",
    "elif month <=6 and day<=20:\n",
    "    print(\"Близнецы\")\n",
    "elif month <=6 and day>=21:\n",
    "    print(\"Рак\")\n",
    "elif month <=7 and day<=22:\n",
    "    print(\"Рак\")\n",
    "elif month <=7 and day>=23:\n",
    "    print(\"Лев\")\n",
    "elif month <=8 and day<=22:\n",
    "    print(\"Лев\")\n",
    "elif month <=8 and day>=23:\n",
    "    print(\"Дева\")\n",
    "elif month <=9 and day<=23:\n",
    "    print(\"Дева\")\n",
    "elif month <=9 and day>=24:\n",
    "    print(\"Весы\")\n",
    "elif month <=10 and day<=23:\n",
    "    print(\"Весы\")\n",
    "elif month <=10 and day>=24:\n",
    "    print(\"Скорпион\")\n",
    "elif month <=11 and day<=21:\n",
    "    print(\"Скорпион\")\n",
    "elif month <=11 and day>=22:\n",
    "    print(\"Стрелец\")\n",
    "elif month <=12 and day<=21:\n",
    "    print(\"Стрелец\")\n",
    "elif month <=12 and day>=22:\n",
    "    print(\"Козерог\")\n",
    "print('Конец программы')"
   ]
  },
  {
   "cell_type": "markdown",
   "metadata": {},
   "source": [
    "**Задание 4**. Нужно разработать приложение для финансового планирования.\n",
    "Приложение учитывает сколько уходит на ипотеку, \"на жизнь\" и сколько нужно отложить на пенсию.\n",
    "Пользователь вводит:\n",
    "- заработанную плату в месяц.\n",
    "- сколько процентов от ЗП уходит на ипотеку.\n",
    "- сколько процентов от ЗП уходит \"на жизнь\".\n",
    "- сколько раз приходит премия в год.\n",
    "\n",
    "Остальная часть заработанной платы откладывается на пенсию.\n",
    "\n",
    "Также пользователю приходит премия в размере зарплаты, от которой половина уходит на отпуск, а вторая половина откладывается.\n",
    "\n",
    "Программа должна учитывать сколько премий было в год.\n",
    "\n",
    "Нужно вывести сколько денег тратит пользователь на ипотеку и сколько он накопит за год.\n",
    "\n",
    "Пример:\n",
    "\n",
    "Введите заработанную плату в месяц: 100000\n",
    "\n",
    "Введите сколько процентов уходит на ипотеку: 30\n",
    "\n",
    "Введите сколько процентов уходит на жизнь: 50\n",
    "\n",
    "Введите количество премий за год: 2\n",
    "\n",
    "Вывод:\n",
    "На ипотеку было потрачено: 360000 рублей\n",
    "Было накоплено: 340000 рублей"
   ]
  },
  {
   "cell_type": "code",
   "execution_count": 47,
   "metadata": {},
   "outputs": [
    {
     "name": "stdout",
     "output_type": "stream",
     "text": [
      "Введите зарплату1000\n",
      "Сколько % уходит на ипотеку?30\n",
      "Cколько % уходит на жизнь?50\n",
      "Сколько раз в году премия?2\n",
      "На ипотеку потрачено: 3600.0 Было накоплено за год: 3400.0\n"
     ]
    }
   ],
   "source": [
    "wage = int(input(\"Введите зарплату\"))\n",
    "mortgage = int(input(\"Сколько % уходит на ипотеку?\"))\n",
    "expenses = int(input(\"Cколько % уходит на жизнь?\"))\n",
    "premium = int(input(\"Сколько раз в году премия?\"))\n",
    "a = 12 * wage * mortgage / 100 \n",
    "b = 12 * wage - 12 * wage * mortgage / 100 - 12 * wage * expenses / 100 + wage * premium / 2\n",
    "print(\"На ипотеку потрачено:\", a , \"Было накоплено за год:\", b)"
   ]
  },
  {
   "cell_type": "code",
   "execution_count": null,
   "metadata": {},
   "outputs": [],
   "source": []
  },
  {
   "cell_type": "code",
   "execution_count": null,
   "metadata": {},
   "outputs": [],
   "source": []
  }
 ],
 "metadata": {
  "kernelspec": {
   "display_name": "Python 3",
   "language": "python",
   "name": "python3"
  },
  "language_info": {
   "codemirror_mode": {
    "name": "ipython",
    "version": 3
   },
   "file_extension": ".py",
   "mimetype": "text/x-python",
   "name": "python",
   "nbconvert_exporter": "python",
   "pygments_lexer": "ipython3",
   "version": "3.7.3"
  }
 },
 "nbformat": 4,
 "nbformat_minor": 2
}
